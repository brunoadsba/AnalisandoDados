{
 "cells": [
  {
   "cell_type": "code",
   "execution_count": 1,
   "metadata": {},
   "outputs": [],
   "source": [
    "import pandas as pd\n",
    "import plotly.express as px\n",
    "import os\n",
    "\n",
    "# Carregando os dados e removendo informações desnecessárias do arquivo CSV\n",
    "dados = pd.read_csv(\"cancelamentos.csv\").drop(columns=\"CustomerID\").dropna()\n",
    "\n",
    "# Renomeando colunas e substituindo valores\n",
    "dados = dados.rename(columns={\"idade\": \"Idade do Cliente\", \"sexo\": \"Sexo do Cliente\",\n",
    "                              \"tempo_como_cliente\": \"Tempo como Cliente\", \n",
    "                              \"frequencia_uso\": \"Frequência de Uso do Serviço\",\n",
    "                              \"ligacoes_callcenter\": \"Ligação para a Central de Atendimento\", \n",
    "                              \"dias_atraso\": \"Dias em Atraso\", \"assinatura\": \"Tipo de Plano_Assinatura\", \n",
    "                              \"duracao_contrato\": \"Tempo de Duração do Contrato\", \"total_gasto\": \"Total Gasto\", \n",
    "                              \"meses_ultima_interacao\": \"Meses desde a Última Interação\", \"cancelou\": \"Cancelou\"})\n",
    "\n",
    "# Mapeando valores nas colunas\n",
    "dados['Sexo do Cliente'] = dados['Sexo do Cliente'].replace({'Male': 'Masculino', 'Female': 'Feminino'})\n",
    "dados['Tipo de Plano_Assinatura'] = dados['Tipo de Plano_Assinatura'].replace({'Standard': 'Padrão', 'Basic': 'Básico', 'Premium': 'Prêmio'})\n",
    "dados['Tempo de Duração do Contrato'] = dados['Tempo de Duração do Contrato'].replace({'Annual': 'Anual', 'Monthly': 'Mensal', 'Quarterly': 'Trimestral'})\n",
    "\n",
    "# Mapeando os valores na coluna \"Cancelou\" para \"Sim\" ou \"Não\"\n",
    "dados['Cancelou'] = dados['Cancelou'].map({1.0: \"Sim\", 0.0: \"Não\"})\n",
    "\n",
    "# Loop que itera sobre todas as colunas do DataFrame, exceto a coluna \"Cancelou\"\n",
    "for coluna in dados.columns:\n",
    "    if coluna != 'Cancelou':\n",
    "        # Criando o histograma\n",
    "        grafico = px.histogram(dados, x=coluna, color=\"Cancelou\", color_discrete_map={\"Sim\": \"purple\", \"Não\": \"green\"}, barmode='group')\n",
    "        \n",
    "        # Definindo o texto do hover de acordo com a coluna\n",
    "        hover_template = f\"{coluna}: %{{x}}\"  \n",
    "        grafico.update_traces(hovertemplate=hover_template)\n",
    "        \n",
    "        # Atualizando o layout do gráfico\n",
    "        titulo_grafico = \"Análise de Cancelamentos\"\n",
    "        grafico.update_layout(title=titulo_grafico, title_x=0.5, title_y=0.95, yaxis_title='Quantidade')\n",
    "        \n",
    "        # Salvando o gráfico como HTML\n",
    "        arquivo_html = os.path.join(\"./charts_html/\", f\"{coluna}.html\")\n",
    "        grafico.write_html(arquivo_html)\n",
    "        \n",
    "        # grafico.show()\n"
   ]
  }
 ],
 "metadata": {
  "kernelspec": {
   "display_name": "Python 3",
   "language": "python",
   "name": "python3"
  },
  "language_info": {
   "codemirror_mode": {
    "name": "ipython",
    "version": 3
   },
   "file_extension": ".py",
   "mimetype": "text/x-python",
   "name": "python",
   "nbconvert_exporter": "python",
   "pygments_lexer": "ipython3",
   "version": "3.12.2"
  }
 },
 "nbformat": 4,
 "nbformat_minor": 2
}
